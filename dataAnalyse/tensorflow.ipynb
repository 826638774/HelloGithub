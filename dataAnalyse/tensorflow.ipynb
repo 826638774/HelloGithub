{
 "cells": [
  {
   "cell_type": "code",
   "execution_count": 2,
   "metadata": {},
   "outputs": [
    {
     "name": "stdout",
     "output_type": "stream",
     "text": [
      "最后结果为： -5.666666666666667\n",
      "Tensor(\"Const_2:0\", shape=(), dtype=int32)\n"
     ]
    }
   ],
   "source": [
    "import tensorflow as tf\n",
    "sess = tf.Session()\n",
    "a=tf.constant(5)\n",
    "b=tf.constant(2)\n",
    "c=tf.multiply(a,b)\n",
    "d=tf.add(a,b)\n",
    "e=tf.subtract(d,c)\n",
    "f=tf.add(d,c)\n",
    "g=tf.divide(f,e)\n",
    "out=sess.run(g)\n",
    "sess.close()\n",
    "print(\"最后结果为：\",format(out))\n",
    "print(a)  "
   ]
  },
  {
   "cell_type": "code",
   "execution_count": 69,
   "metadata": {},
   "outputs": [
    {
     "name": "stdout",
     "output_type": "stream",
     "text": [
      "out=8.623543739318848\n"
     ]
    }
   ],
   "source": [
    "import tensorflow as tf\n",
    "import numpy as np\n",
    "x_data=np.random.randn(7,10)\n",
    "w_data=np.random.randn(10,1)\n",
    "with tf.Graph().as_default():\n",
    "    x=tf.placeholder(tf.float32,shape=(7,10))\n",
    "    w=tf.placeholder(tf.float32,shape=(10,1))\n",
    "    b=tf.fill((7,1),-1.0)\n",
    "    xw=tf.matmul(x,w)\n",
    "    xwb=xw+b\n",
    "    s=tf.reduce_max(xwb)\n",
    "    with tf.Session() as sess:\n",
    "        out =sess.run(s,feed_dict={x:x_data,w:w_data})\n",
    "    print(\"out={}\".format(out))\n",
    "    "
   ]
  }
 ],
 "metadata": {
  "kernelspec": {
   "display_name": "Python 3",
   "language": "python",
   "name": "python3"
  },
  "language_info": {
   "codemirror_mode": {
    "name": "ipython",
    "version": 3
   },
   "file_extension": ".py",
   "mimetype": "text/x-python",
   "name": "python",
   "nbconvert_exporter": "python",
   "pygments_lexer": "ipython3",
   "version": "3.6.8"
  }
 },
 "nbformat": 4,
 "nbformat_minor": 2
}
